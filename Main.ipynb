{
 "cells": [
  {
   "cell_type": "code",
   "execution_count": 134,
   "metadata": {},
   "outputs": [],
   "source": [
    "import numpy\n",
    "import pandas\n",
    "from abc import ABCMeta, abstractmethod\n",
    "\n",
    "class MachineLearning(metaclass=ABCMeta):\n",
    "    \n",
    "    def __init__(self, x, y, tts, thresh):\n",
    "        if len(x) != len(y):\n",
    "            raise ValueError(\"X and Y should have the same amount of samples\")\n",
    "        if type(x) != numpy.ndarray:\n",
    "            x = numpy.array(x)\n",
    "        self.xtrain, self.ytrain, self.xtest, self.ytest = self.tts(x, y, tts, thresh)\n",
    "        self.num_samples = len(self.xtrain)\n",
    "        self.num_features = len(self.xtrain[0])\n",
    "            \n",
    "        \n",
    "    def get_train(self):\n",
    "        zipped_ = zip([i for i in range(len(self.xtrain))], self.xtrain.transpose())\n",
    "        df_data = {}\n",
    "        for n, sample in zipped_:\n",
    "            df_data[\"feature\"+str(n)] = sample\n",
    "        return pandas.DataFrame(df_data)\n",
    "            \n",
    "    \n",
    "    def get_test(self):\n",
    "        testd = {}\n",
    "        if self.xtest is None:\n",
    "            raise RuntimeWarning(\"No Test Data\")\n",
    "        else:\n",
    "            testd[\"x_test\"] = self.xtest\n",
    "            if self.ytest is not None:\n",
    "                testd[\"y_test\"] = self.ytest\n",
    "    \n",
    "    def tts(self, x, y, tts = 0.8, thresh = 10):\n",
    "        xtrain, ytrain, xtest, ytest = None, None, None, None\n",
    "        xlen = len(x)\n",
    "        train_len = xlen * tts\n",
    "        test_len = xlen - train_len\n",
    "        if y is not None:\n",
    "            if thresh > test_len:\n",
    "                xtrain, xtest = x.copy(), x.copy()\n",
    "                ytrain, ytest = y.copy(), y.copy()\n",
    "            else:\n",
    "                xtrain, xtest = x.copy()[0:train_len], x.copy()[train_len:]\n",
    "                ytrain, ytest = y.copy()[0:train_len], y.copy()[train_len:]\n",
    "        else:\n",
    "            xtrain, xtest = x.copy(), x.copy()\n",
    "        return xtrain, ytrain, xtest, ytest\n",
    "        \n",
    "    @abstractmethod\n",
    "    def fit(self):\n",
    "        pass\n",
    "    \n",
    "    @abstractmethod\n",
    "    def predict(self, x):\n",
    "        pass\n",
    "        \n",
    "    \n",
    "    def test(self):\n",
    "        predictions = predict(self.xtest)\n",
    "        return pandas.DataFrame({\"x\": self.xtest,\n",
    "                                \"predictions\": predictions,\n",
    "                                 \"Actual\": self.ytest })"
   ]
  },
  {
   "cell_type": "code",
   "execution_count": 135,
   "metadata": {},
   "outputs": [],
   "source": [
    "class kNN(MachineLearning):\n",
    "    \n",
    "    def __init__(self, x, y, tts=0.8, thresh=10):\n",
    "        super(kNN, self).__init__(x, y, tts=0.8, thresh=10)\n",
    "        \n",
    "    def fit(self, x, y=None):\n",
    "        pass\n",
    "    \n",
    "    def predict(self, x):\n",
    "        pass\n",
    "        "
   ]
  },
  {
   "cell_type": "code",
   "execution_count": 136,
   "metadata": {},
   "outputs": [],
   "source": [
    "x = kNN([[1, 1], [2,2], [3,3]], ['low', 'low', 'high'])"
   ]
  }
 ],
 "metadata": {
  "kernelspec": {
   "display_name": "mlpass1",
   "language": "python",
   "name": "mlpass1"
  },
  "language_info": {
   "codemirror_mode": {
    "name": "ipython",
    "version": 3
   },
   "file_extension": ".py",
   "mimetype": "text/x-python",
   "name": "python",
   "nbconvert_exporter": "python",
   "pygments_lexer": "ipython3",
   "version": "3.7.8"
  }
 },
 "nbformat": 4,
 "nbformat_minor": 4
}
